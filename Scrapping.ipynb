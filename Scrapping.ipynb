{
  "nbformat": 4,
  "nbformat_minor": 0,
  "metadata": {
    "colab": {
      "provenance": []
    },
    "kernelspec": {
      "name": "python3",
      "display_name": "Python 3"
    },
    "language_info": {
      "name": "python"
    }
  },
  "cells": [
    {
      "cell_type": "code",
      "source": [
        "!pip install google-play-scraper"
      ],
      "metadata": {
        "colab": {
          "base_uri": "https://localhost:8080/"
        },
        "id": "SJoxIG1n0VIC",
        "outputId": "dd094a18-7479-4915-d0cf-170d3802b697"
      },
      "execution_count": 1,
      "outputs": [
        {
          "output_type": "stream",
          "name": "stdout",
          "text": [
            "Requirement already satisfied: google-play-scraper in /usr/local/lib/python3.11/dist-packages (1.2.7)\n"
          ]
        }
      ]
    },
    {
      "cell_type": "code",
      "execution_count": 2,
      "metadata": {
        "id": "Cv02kxTu3xEQ"
      },
      "outputs": [],
      "source": [
        "import pandas as pd\n",
        "from google_play_scraper import Sort, reviews"
      ]
    },
    {
      "cell_type": "code",
      "source": [
        "app_id = 'com.bcadigital.blu'\n",
        "\n",
        "all_reviews = []\n",
        "\n",
        "for i in range(0, 10000, 500):\n",
        "    result, _ = reviews(\n",
        "        app_id,\n",
        "        lang='id',\n",
        "        country='id',\n",
        "        sort=Sort.NEWEST,\n",
        "        count=500,\n",
        "        filter_score_with=None\n",
        "    )\n",
        "    all_reviews.extend(result)\n",
        "\n",
        "    print(f\"Progress: {len(all_reviews)} review berhasil diambil...\")\n",
        "\n",
        "df = pd.DataFrame(all_reviews)\n",
        "\n",
        "df[['userName', 'score', 'content']].to_csv('hasil_scrappingg.csv', index=False)"
      ],
      "metadata": {
        "colab": {
          "base_uri": "https://localhost:8080/"
        },
        "id": "TCc2-aDZ7u-X",
        "outputId": "de30c88d-182c-4f49-9eb7-e56ed9dc269e"
      },
      "execution_count": 3,
      "outputs": [
        {
          "output_type": "stream",
          "name": "stdout",
          "text": [
            "Progress: 500 review berhasil diambil...\n",
            "Progress: 1000 review berhasil diambil...\n",
            "Progress: 1500 review berhasil diambil...\n",
            "Progress: 2000 review berhasil diambil...\n",
            "Progress: 2500 review berhasil diambil...\n",
            "Progress: 3000 review berhasil diambil...\n",
            "Progress: 3500 review berhasil diambil...\n",
            "Progress: 4000 review berhasil diambil...\n",
            "Progress: 4500 review berhasil diambil...\n",
            "Progress: 5000 review berhasil diambil...\n",
            "Progress: 5500 review berhasil diambil...\n",
            "Progress: 6000 review berhasil diambil...\n",
            "Progress: 6500 review berhasil diambil...\n",
            "Progress: 7000 review berhasil diambil...\n",
            "Progress: 7500 review berhasil diambil...\n",
            "Progress: 8000 review berhasil diambil...\n",
            "Progress: 8500 review berhasil diambil...\n",
            "Progress: 9000 review berhasil diambil...\n",
            "Progress: 9500 review berhasil diambil...\n",
            "Progress: 10000 review berhasil diambil...\n"
          ]
        }
      ]
    }
  ]
}
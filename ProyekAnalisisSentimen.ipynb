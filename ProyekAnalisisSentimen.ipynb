{
  "nbformat": 4,
  "nbformat_minor": 0,
  "metadata": {
    "colab": {
      "provenance": [],
      "gpuType": "T4"
    },
    "kernelspec": {
      "name": "python3",
      "display_name": "Python 3"
    },
    "language_info": {
      "name": "python"
    },
    "accelerator": "GPU"
  },
  "cells": [
    {
      "cell_type": "markdown",
      "source": [
        "*   Nama  : Mohamad Farrel Aryansyah\n",
        "*   ID    : MC009D5Y2453\n",
        "*   Kelas : MC-27"
      ],
      "metadata": {
        "id": "2K1zfKDtPaO2"
      }
    },
    {
      "cell_type": "markdown",
      "source": [
        "# Analisis Sentimen Review Aplikasi Blu by BCA di Play Store"
      ],
      "metadata": {
        "id": "RwWf9g5-OqRE"
      }
    },
    {
      "cell_type": "markdown",
      "source": [
        "## Import Library"
      ],
      "metadata": {
        "id": "Cz-w5jrvQOhy"
      }
    },
    {
      "cell_type": "code",
      "source": [
        "!pip install Sastrawi\n",
        "!pip install gensim"
      ],
      "metadata": {
        "colab": {
          "base_uri": "https://localhost:8080/"
        },
        "id": "HriOoMWULhKb",
        "outputId": "0e763792-4107-41ae-f508-20415ffa5f5e"
      },
      "execution_count": 1,
      "outputs": [
        {
          "output_type": "stream",
          "name": "stdout",
          "text": [
            "Requirement already satisfied: Sastrawi in /usr/local/lib/python3.11/dist-packages (1.0.1)\n",
            "Requirement already satisfied: gensim in /usr/local/lib/python3.11/dist-packages (4.3.3)\n",
            "Requirement already satisfied: numpy<2.0,>=1.18.5 in /usr/local/lib/python3.11/dist-packages (from gensim) (1.26.4)\n",
            "Requirement already satisfied: scipy<1.14.0,>=1.7.0 in /usr/local/lib/python3.11/dist-packages (from gensim) (1.13.1)\n",
            "Requirement already satisfied: smart-open>=1.8.1 in /usr/local/lib/python3.11/dist-packages (from gensim) (7.1.0)\n",
            "Requirement already satisfied: wrapt in /usr/local/lib/python3.11/dist-packages (from smart-open>=1.8.1->gensim) (1.17.2)\n"
          ]
        }
      ]
    },
    {
      "cell_type": "code",
      "source": [
        "#!pip install --upgrade --force-reinstall gensim"
      ],
      "metadata": {
        "id": "wLGJkAr2dZVG"
      },
      "execution_count": 2,
      "outputs": []
    },
    {
      "cell_type": "code",
      "execution_count": 3,
      "metadata": {
        "id": "Zn5koM8QLF5N"
      },
      "outputs": [],
      "source": [
        "import pandas as pd\n",
        "import numpy as np\n",
        "import re\n",
        "\n",
        "import nltk\n",
        "from nltk.tokenize import word_tokenize\n",
        "from nltk.corpus import stopwords\n",
        "from Sastrawi.Stemmer.StemmerFactory import StemmerFactory\n",
        "\n",
        "import matplotlib.pyplot as plt\n",
        "import seaborn as sns\n",
        "\n",
        "from sklearn.model_selection import train_test_split\n",
        "from sklearn.preprocessing import LabelEncoder\n",
        "from sklearn.feature_extraction.text import TfidfVectorizer\n",
        "from sklearn.svm import LinearSVC\n",
        "from sklearn.ensemble import RandomForestClassifier\n",
        "from sklearn.metrics import accuracy_score, classification_report, confusion_matrix\n",
        "\n",
        "import gensim\n",
        "from gensim.models import Word2Vec\n",
        "\n",
        "from tensorflow.keras.preprocessing.text import Tokenizer\n",
        "from tensorflow.keras.preprocessing.sequence import pad_sequences\n",
        "from tensorflow.keras.models import Sequential\n",
        "from tensorflow.keras.layers import Embedding, LSTM, Dense, Dropout\n",
        "from tensorflow.keras.callbacks import Callback"
      ]
    },
    {
      "cell_type": "code",
      "source": [
        "nltk.download('punkt')\n",
        "nltk.download('punkt_tab')\n",
        "nltk.download('stopwords')"
      ],
      "metadata": {
        "colab": {
          "base_uri": "https://localhost:8080/"
        },
        "id": "7OhRzD7R9vo1",
        "outputId": "9009d2de-4382-44a8-c201-ce3966656bb4"
      },
      "execution_count": 4,
      "outputs": [
        {
          "output_type": "stream",
          "name": "stderr",
          "text": [
            "[nltk_data] Downloading package punkt to /root/nltk_data...\n",
            "[nltk_data]   Unzipping tokenizers/punkt.zip.\n",
            "[nltk_data] Downloading package punkt_tab to /root/nltk_data...\n",
            "[nltk_data]   Unzipping tokenizers/punkt_tab.zip.\n",
            "[nltk_data] Downloading package stopwords to /root/nltk_data...\n",
            "[nltk_data]   Unzipping corpora/stopwords.zip.\n"
          ]
        },
        {
          "output_type": "execute_result",
          "data": {
            "text/plain": [
              "True"
            ]
          },
          "metadata": {},
          "execution_count": 4
        }
      ]
    },
    {
      "cell_type": "markdown",
      "source": [
        "## Load Data"
      ],
      "metadata": {
        "id": "T5wVE9H8Qbsx"
      }
    },
    {
      "cell_type": "code",
      "source": [
        "df = pd.read_csv('Blu_review.csv')\n",
        "df"
      ],
      "metadata": {
        "colab": {
          "base_uri": "https://localhost:8080/",
          "height": 424
        },
        "id": "NFfWWKvX96C2",
        "outputId": "db563e86-f901-4aed-c0fc-76233c05813f"
      },
      "execution_count": 5,
      "outputs": [
        {
          "output_type": "execute_result",
          "data": {
            "text/plain": [
              "                         userName  score  \\\n",
              "0                    Heri GamerZ卐      5   \n",
              "1      Ramadhani Wisnu Habibullah      5   \n",
              "2                Eva simangunsong      5   \n",
              "3                  Misnawati Dewi      5   \n",
              "4                    Anan Rusmana      5   \n",
              "...                           ...    ...   \n",
              "9995  Únan Ryandrá (Braga` Nagaa)      5   \n",
              "9996              Alastor Alastor      5   \n",
              "9997              Danivivi Vita19      5   \n",
              "9998                  Gulali Jawa      1   \n",
              "9999                fajar baretto      1   \n",
              "\n",
              "                                                content  \n",
              "0     sudah cukup untuk kebutuhan nabung dan transak...  \n",
              "1     apk nya di buat ringan aja dong kaya mbanking ...  \n",
              "2     kok bku BCA ku , minta masukin no handphone da...  \n",
              "3                                                 keren  \n",
              "4                          blu digital bca mantaap lach  \n",
              "...                                                 ...  \n",
              "9995  ini apps keren banget sih, gak bakal ke ganggu...  \n",
              "9996  HP saya ilang semalam mau login ke apk blu by ...  \n",
              "9997  aplikasi nya bagus,tapi tolong di benar kan la...  \n",
              "9998  Gimana ini setelah update aplikasinya ga bisa ...  \n",
              "9999                      Kembalikan top up shopepay!!!  \n",
              "\n",
              "[10000 rows x 3 columns]"
            ],
            "text/html": [
              "\n",
              "  <div id=\"df-b447816e-458a-4115-8bc7-aff7c4076eec\" class=\"colab-df-container\">\n",
              "    <div>\n",
              "<style scoped>\n",
              "    .dataframe tbody tr th:only-of-type {\n",
              "        vertical-align: middle;\n",
              "    }\n",
              "\n",
              "    .dataframe tbody tr th {\n",
              "        vertical-align: top;\n",
              "    }\n",
              "\n",
              "    .dataframe thead th {\n",
              "        text-align: right;\n",
              "    }\n",
              "</style>\n",
              "<table border=\"1\" class=\"dataframe\">\n",
              "  <thead>\n",
              "    <tr style=\"text-align: right;\">\n",
              "      <th></th>\n",
              "      <th>userName</th>\n",
              "      <th>score</th>\n",
              "      <th>content</th>\n",
              "    </tr>\n",
              "  </thead>\n",
              "  <tbody>\n",
              "    <tr>\n",
              "      <th>0</th>\n",
              "      <td>Heri GamerZ卐</td>\n",
              "      <td>5</td>\n",
              "      <td>sudah cukup untuk kebutuhan nabung dan transak...</td>\n",
              "    </tr>\n",
              "    <tr>\n",
              "      <th>1</th>\n",
              "      <td>Ramadhani Wisnu Habibullah</td>\n",
              "      <td>5</td>\n",
              "      <td>apk nya di buat ringan aja dong kaya mbanking ...</td>\n",
              "    </tr>\n",
              "    <tr>\n",
              "      <th>2</th>\n",
              "      <td>Eva simangunsong</td>\n",
              "      <td>5</td>\n",
              "      <td>kok bku BCA ku , minta masukin no handphone da...</td>\n",
              "    </tr>\n",
              "    <tr>\n",
              "      <th>3</th>\n",
              "      <td>Misnawati Dewi</td>\n",
              "      <td>5</td>\n",
              "      <td>keren</td>\n",
              "    </tr>\n",
              "    <tr>\n",
              "      <th>4</th>\n",
              "      <td>Anan Rusmana</td>\n",
              "      <td>5</td>\n",
              "      <td>blu digital bca mantaap lach</td>\n",
              "    </tr>\n",
              "    <tr>\n",
              "      <th>...</th>\n",
              "      <td>...</td>\n",
              "      <td>...</td>\n",
              "      <td>...</td>\n",
              "    </tr>\n",
              "    <tr>\n",
              "      <th>9995</th>\n",
              "      <td>Únan Ryandrá (Braga` Nagaa)</td>\n",
              "      <td>5</td>\n",
              "      <td>ini apps keren banget sih, gak bakal ke ganggu...</td>\n",
              "    </tr>\n",
              "    <tr>\n",
              "      <th>9996</th>\n",
              "      <td>Alastor Alastor</td>\n",
              "      <td>5</td>\n",
              "      <td>HP saya ilang semalam mau login ke apk blu by ...</td>\n",
              "    </tr>\n",
              "    <tr>\n",
              "      <th>9997</th>\n",
              "      <td>Danivivi Vita19</td>\n",
              "      <td>5</td>\n",
              "      <td>aplikasi nya bagus,tapi tolong di benar kan la...</td>\n",
              "    </tr>\n",
              "    <tr>\n",
              "      <th>9998</th>\n",
              "      <td>Gulali Jawa</td>\n",
              "      <td>1</td>\n",
              "      <td>Gimana ini setelah update aplikasinya ga bisa ...</td>\n",
              "    </tr>\n",
              "    <tr>\n",
              "      <th>9999</th>\n",
              "      <td>fajar baretto</td>\n",
              "      <td>1</td>\n",
              "      <td>Kembalikan top up shopepay!!!</td>\n",
              "    </tr>\n",
              "  </tbody>\n",
              "</table>\n",
              "<p>10000 rows × 3 columns</p>\n",
              "</div>\n",
              "    <div class=\"colab-df-buttons\">\n",
              "\n",
              "  <div class=\"colab-df-container\">\n",
              "    <button class=\"colab-df-convert\" onclick=\"convertToInteractive('df-b447816e-458a-4115-8bc7-aff7c4076eec')\"\n",
              "            title=\"Convert this dataframe to an interactive table.\"\n",
              "            style=\"display:none;\">\n",
              "\n",
              "  <svg xmlns=\"http://www.w3.org/2000/svg\" height=\"24px\" viewBox=\"0 -960 960 960\">\n",
              "    <path d=\"M120-120v-720h720v720H120Zm60-500h600v-160H180v160Zm220 220h160v-160H400v160Zm0 220h160v-160H400v160ZM180-400h160v-160H180v160Zm440 0h160v-160H620v160ZM180-180h160v-160H180v160Zm440 0h160v-160H620v160Z\"/>\n",
              "  </svg>\n",
              "    </button>\n",
              "\n",
              "  <style>\n",
              "    .colab-df-container {\n",
              "      display:flex;\n",
              "      gap: 12px;\n",
              "    }\n",
              "\n",
              "    .colab-df-convert {\n",
              "      background-color: #E8F0FE;\n",
              "      border: none;\n",
              "      border-radius: 50%;\n",
              "      cursor: pointer;\n",
              "      display: none;\n",
              "      fill: #1967D2;\n",
              "      height: 32px;\n",
              "      padding: 0 0 0 0;\n",
              "      width: 32px;\n",
              "    }\n",
              "\n",
              "    .colab-df-convert:hover {\n",
              "      background-color: #E2EBFA;\n",
              "      box-shadow: 0px 1px 2px rgba(60, 64, 67, 0.3), 0px 1px 3px 1px rgba(60, 64, 67, 0.15);\n",
              "      fill: #174EA6;\n",
              "    }\n",
              "\n",
              "    .colab-df-buttons div {\n",
              "      margin-bottom: 4px;\n",
              "    }\n",
              "\n",
              "    [theme=dark] .colab-df-convert {\n",
              "      background-color: #3B4455;\n",
              "      fill: #D2E3FC;\n",
              "    }\n",
              "\n",
              "    [theme=dark] .colab-df-convert:hover {\n",
              "      background-color: #434B5C;\n",
              "      box-shadow: 0px 1px 3px 1px rgba(0, 0, 0, 0.15);\n",
              "      filter: drop-shadow(0px 1px 2px rgba(0, 0, 0, 0.3));\n",
              "      fill: #FFFFFF;\n",
              "    }\n",
              "  </style>\n",
              "\n",
              "    <script>\n",
              "      const buttonEl =\n",
              "        document.querySelector('#df-b447816e-458a-4115-8bc7-aff7c4076eec button.colab-df-convert');\n",
              "      buttonEl.style.display =\n",
              "        google.colab.kernel.accessAllowed ? 'block' : 'none';\n",
              "\n",
              "      async function convertToInteractive(key) {\n",
              "        const element = document.querySelector('#df-b447816e-458a-4115-8bc7-aff7c4076eec');\n",
              "        const dataTable =\n",
              "          await google.colab.kernel.invokeFunction('convertToInteractive',\n",
              "                                                    [key], {});\n",
              "        if (!dataTable) return;\n",
              "\n",
              "        const docLinkHtml = 'Like what you see? Visit the ' +\n",
              "          '<a target=\"_blank\" href=https://colab.research.google.com/notebooks/data_table.ipynb>data table notebook</a>'\n",
              "          + ' to learn more about interactive tables.';\n",
              "        element.innerHTML = '';\n",
              "        dataTable['output_type'] = 'display_data';\n",
              "        await google.colab.output.renderOutput(dataTable, element);\n",
              "        const docLink = document.createElement('div');\n",
              "        docLink.innerHTML = docLinkHtml;\n",
              "        element.appendChild(docLink);\n",
              "      }\n",
              "    </script>\n",
              "  </div>\n",
              "\n",
              "\n",
              "<div id=\"df-a1a72615-7a41-4949-b7dd-f37a1d5eff44\">\n",
              "  <button class=\"colab-df-quickchart\" onclick=\"quickchart('df-a1a72615-7a41-4949-b7dd-f37a1d5eff44')\"\n",
              "            title=\"Suggest charts\"\n",
              "            style=\"display:none;\">\n",
              "\n",
              "<svg xmlns=\"http://www.w3.org/2000/svg\" height=\"24px\"viewBox=\"0 0 24 24\"\n",
              "     width=\"24px\">\n",
              "    <g>\n",
              "        <path d=\"M19 3H5c-1.1 0-2 .9-2 2v14c0 1.1.9 2 2 2h14c1.1 0 2-.9 2-2V5c0-1.1-.9-2-2-2zM9 17H7v-7h2v7zm4 0h-2V7h2v10zm4 0h-2v-4h2v4z\"/>\n",
              "    </g>\n",
              "</svg>\n",
              "  </button>\n",
              "\n",
              "<style>\n",
              "  .colab-df-quickchart {\n",
              "      --bg-color: #E8F0FE;\n",
              "      --fill-color: #1967D2;\n",
              "      --hover-bg-color: #E2EBFA;\n",
              "      --hover-fill-color: #174EA6;\n",
              "      --disabled-fill-color: #AAA;\n",
              "      --disabled-bg-color: #DDD;\n",
              "  }\n",
              "\n",
              "  [theme=dark] .colab-df-quickchart {\n",
              "      --bg-color: #3B4455;\n",
              "      --fill-color: #D2E3FC;\n",
              "      --hover-bg-color: #434B5C;\n",
              "      --hover-fill-color: #FFFFFF;\n",
              "      --disabled-bg-color: #3B4455;\n",
              "      --disabled-fill-color: #666;\n",
              "  }\n",
              "\n",
              "  .colab-df-quickchart {\n",
              "    background-color: var(--bg-color);\n",
              "    border: none;\n",
              "    border-radius: 50%;\n",
              "    cursor: pointer;\n",
              "    display: none;\n",
              "    fill: var(--fill-color);\n",
              "    height: 32px;\n",
              "    padding: 0;\n",
              "    width: 32px;\n",
              "  }\n",
              "\n",
              "  .colab-df-quickchart:hover {\n",
              "    background-color: var(--hover-bg-color);\n",
              "    box-shadow: 0 1px 2px rgba(60, 64, 67, 0.3), 0 1px 3px 1px rgba(60, 64, 67, 0.15);\n",
              "    fill: var(--button-hover-fill-color);\n",
              "  }\n",
              "\n",
              "  .colab-df-quickchart-complete:disabled,\n",
              "  .colab-df-quickchart-complete:disabled:hover {\n",
              "    background-color: var(--disabled-bg-color);\n",
              "    fill: var(--disabled-fill-color);\n",
              "    box-shadow: none;\n",
              "  }\n",
              "\n",
              "  .colab-df-spinner {\n",
              "    border: 2px solid var(--fill-color);\n",
              "    border-color: transparent;\n",
              "    border-bottom-color: var(--fill-color);\n",
              "    animation:\n",
              "      spin 1s steps(1) infinite;\n",
              "  }\n",
              "\n",
              "  @keyframes spin {\n",
              "    0% {\n",
              "      border-color: transparent;\n",
              "      border-bottom-color: var(--fill-color);\n",
              "      border-left-color: var(--fill-color);\n",
              "    }\n",
              "    20% {\n",
              "      border-color: transparent;\n",
              "      border-left-color: var(--fill-color);\n",
              "      border-top-color: var(--fill-color);\n",
              "    }\n",
              "    30% {\n",
              "      border-color: transparent;\n",
              "      border-left-color: var(--fill-color);\n",
              "      border-top-color: var(--fill-color);\n",
              "      border-right-color: var(--fill-color);\n",
              "    }\n",
              "    40% {\n",
              "      border-color: transparent;\n",
              "      border-right-color: var(--fill-color);\n",
              "      border-top-color: var(--fill-color);\n",
              "    }\n",
              "    60% {\n",
              "      border-color: transparent;\n",
              "      border-right-color: var(--fill-color);\n",
              "    }\n",
              "    80% {\n",
              "      border-color: transparent;\n",
              "      border-right-color: var(--fill-color);\n",
              "      border-bottom-color: var(--fill-color);\n",
              "    }\n",
              "    90% {\n",
              "      border-color: transparent;\n",
              "      border-bottom-color: var(--fill-color);\n",
              "    }\n",
              "  }\n",
              "</style>\n",
              "\n",
              "  <script>\n",
              "    async function quickchart(key) {\n",
              "      const quickchartButtonEl =\n",
              "        document.querySelector('#' + key + ' button');\n",
              "      quickchartButtonEl.disabled = true;  // To prevent multiple clicks.\n",
              "      quickchartButtonEl.classList.add('colab-df-spinner');\n",
              "      try {\n",
              "        const charts = await google.colab.kernel.invokeFunction(\n",
              "            'suggestCharts', [key], {});\n",
              "      } catch (error) {\n",
              "        console.error('Error during call to suggestCharts:', error);\n",
              "      }\n",
              "      quickchartButtonEl.classList.remove('colab-df-spinner');\n",
              "      quickchartButtonEl.classList.add('colab-df-quickchart-complete');\n",
              "    }\n",
              "    (() => {\n",
              "      let quickchartButtonEl =\n",
              "        document.querySelector('#df-a1a72615-7a41-4949-b7dd-f37a1d5eff44 button');\n",
              "      quickchartButtonEl.style.display =\n",
              "        google.colab.kernel.accessAllowed ? 'block' : 'none';\n",
              "    })();\n",
              "  </script>\n",
              "</div>\n",
              "\n",
              "  <div id=\"id_42e09784-76bd-4c0c-bcc7-5e9b73c2096b\">\n",
              "    <style>\n",
              "      .colab-df-generate {\n",
              "        background-color: #E8F0FE;\n",
              "        border: none;\n",
              "        border-radius: 50%;\n",
              "        cursor: pointer;\n",
              "        display: none;\n",
              "        fill: #1967D2;\n",
              "        height: 32px;\n",
              "        padding: 0 0 0 0;\n",
              "        width: 32px;\n",
              "      }\n",
              "\n",
              "      .colab-df-generate:hover {\n",
              "        background-color: #E2EBFA;\n",
              "        box-shadow: 0px 1px 2px rgba(60, 64, 67, 0.3), 0px 1px 3px 1px rgba(60, 64, 67, 0.15);\n",
              "        fill: #174EA6;\n",
              "      }\n",
              "\n",
              "      [theme=dark] .colab-df-generate {\n",
              "        background-color: #3B4455;\n",
              "        fill: #D2E3FC;\n",
              "      }\n",
              "\n",
              "      [theme=dark] .colab-df-generate:hover {\n",
              "        background-color: #434B5C;\n",
              "        box-shadow: 0px 1px 3px 1px rgba(0, 0, 0, 0.15);\n",
              "        filter: drop-shadow(0px 1px 2px rgba(0, 0, 0, 0.3));\n",
              "        fill: #FFFFFF;\n",
              "      }\n",
              "    </style>\n",
              "    <button class=\"colab-df-generate\" onclick=\"generateWithVariable('df')\"\n",
              "            title=\"Generate code using this dataframe.\"\n",
              "            style=\"display:none;\">\n",
              "\n",
              "  <svg xmlns=\"http://www.w3.org/2000/svg\" height=\"24px\"viewBox=\"0 0 24 24\"\n",
              "       width=\"24px\">\n",
              "    <path d=\"M7,19H8.4L18.45,9,17,7.55,7,17.6ZM5,21V16.75L18.45,3.32a2,2,0,0,1,2.83,0l1.4,1.43a1.91,1.91,0,0,1,.58,1.4,1.91,1.91,0,0,1-.58,1.4L9.25,21ZM18.45,9,17,7.55Zm-12,3A5.31,5.31,0,0,0,4.9,8.1,5.31,5.31,0,0,0,1,6.5,5.31,5.31,0,0,0,4.9,4.9,5.31,5.31,0,0,0,6.5,1,5.31,5.31,0,0,0,8.1,4.9,5.31,5.31,0,0,0,12,6.5,5.46,5.46,0,0,0,6.5,12Z\"/>\n",
              "  </svg>\n",
              "    </button>\n",
              "    <script>\n",
              "      (() => {\n",
              "      const buttonEl =\n",
              "        document.querySelector('#id_42e09784-76bd-4c0c-bcc7-5e9b73c2096b button.colab-df-generate');\n",
              "      buttonEl.style.display =\n",
              "        google.colab.kernel.accessAllowed ? 'block' : 'none';\n",
              "\n",
              "      buttonEl.onclick = () => {\n",
              "        google.colab.notebook.generateWithVariable('df');\n",
              "      }\n",
              "      })();\n",
              "    </script>\n",
              "  </div>\n",
              "\n",
              "    </div>\n",
              "  </div>\n"
            ],
            "application/vnd.google.colaboratory.intrinsic+json": {
              "type": "dataframe",
              "variable_name": "df",
              "summary": "{\n  \"name\": \"df\",\n  \"rows\": 10000,\n  \"fields\": [\n    {\n      \"column\": \"userName\",\n      \"properties\": {\n        \"dtype\": \"category\",\n        \"num_unique_values\": 500,\n        \"samples\": [\n          \"Hernita Puspita sari\",\n          \"Natasya Ellynt\",\n          \"Moh Dwi Rahmadi\"\n        ],\n        \"semantic_type\": \"\",\n        \"description\": \"\"\n      }\n    },\n    {\n      \"column\": \"score\",\n      \"properties\": {\n        \"dtype\": \"number\",\n        \"std\": 1,\n        \"min\": 1,\n        \"max\": 5,\n        \"num_unique_values\": 5,\n        \"samples\": [\n          1,\n          4,\n          2\n        ],\n        \"semantic_type\": \"\",\n        \"description\": \"\"\n      }\n    },\n    {\n      \"column\": \"content\",\n      \"properties\": {\n        \"dtype\": \"category\",\n        \"num_unique_values\": 477,\n        \"samples\": [\n          \"Mau transfer ke Shopee pay sekarang udh gak bisa , fiturnya di hilangkan kecewa , uninstal aja lah\",\n          \"untuk verifikasi wajah selalu gagal padahal hp tidak bergoyang tolong di perbaiki\",\n          \"Kemarin tinggal tahapan akhir, malah dimatikan oleh CS nya\"\n        ],\n        \"semantic_type\": \"\",\n        \"description\": \"\"\n      }\n    }\n  ]\n}"
            }
          },
          "metadata": {},
          "execution_count": 5
        }
      ]
    },
    {
      "cell_type": "code",
      "source": [
        "df.info()"
      ],
      "metadata": {
        "colab": {
          "base_uri": "https://localhost:8080/"
        },
        "id": "5hNjTO2N-Itc",
        "outputId": "e0dc0912-b6f5-49c0-c860-7638cdccb1f3"
      },
      "execution_count": 6,
      "outputs": [
        {
          "output_type": "stream",
          "name": "stdout",
          "text": [
            "<class 'pandas.core.frame.DataFrame'>\n",
            "RangeIndex: 10000 entries, 0 to 9999\n",
            "Data columns (total 3 columns):\n",
            " #   Column    Non-Null Count  Dtype \n",
            "---  ------    --------------  ----- \n",
            " 0   userName  10000 non-null  object\n",
            " 1   score     10000 non-null  int64 \n",
            " 2   content   10000 non-null  object\n",
            "dtypes: int64(1), object(2)\n",
            "memory usage: 234.5+ KB\n"
          ]
        }
      ]
    },
    {
      "cell_type": "markdown",
      "source": [
        "## Melakukan tahapan ekstraksi fitur dan pelabelan data"
      ],
      "metadata": {
        "id": "Tv6T_YICQydm"
      }
    },
    {
      "cell_type": "markdown",
      "source": [
        "### Preprocessing Data & Tokenisasi"
      ],
      "metadata": {
        "id": "rMqj6ZayQ-hS"
      }
    },
    {
      "cell_type": "code",
      "source": [
        "# Fungsi untuk membersihkan teks dari karakter tidak penting\n",
        "def clean_text(text):\n",
        "    text = text.lower()                                # Ubah teks ke huruf kecil\n",
        "    text = re.sub(r'http\\S+', '', text)                # Hapus URL\n",
        "    text = re.sub(r'@\\S+', '', text)                   # Hapus mention\n",
        "    text = re.sub(r'[^A-Za-z0-9\\s]', '', text)         # Hapus karakter selain huruf dan angka\n",
        "    return text\n",
        "\n",
        "# Menghapus stop words dan melakukan stemming\n",
        "stop_words = set(stopwords.words('indonesian'))\n",
        "factory = StemmerFactory()\n",
        "stemmer = factory.create_stemmer()\n",
        "\n",
        "# Fungsi preprocessing: pembersihan teks + tokenisasi + stopword removal + stemming\n",
        "def preprocess(text):\n",
        "    if pd.isnull(text):\n",
        "        return ''\n",
        "    text = clean_text(text)\n",
        "    tokens = word_tokenize(text)\n",
        "    filtered_tokens = [word for word in tokens if word not in stop_words]\n",
        "    stemmed_tokens = [stemmer.stem(word) for word in filtered_tokens]\n",
        "    return ' '.join(stemmed_tokens)\n",
        "\n",
        "# Terapkan preprocessing ke kolom 'content'\n",
        "df['cleaned_content'] = df['content'].apply(preprocess)\n",
        "\n",
        "# Tampilkan contoh hasil pembersihan\n",
        "print(df[['content', 'cleaned_content']].head())"
      ],
      "metadata": {
        "colab": {
          "base_uri": "https://localhost:8080/"
        },
        "id": "5OqKA3lZ-AOa",
        "outputId": "0f4d0662-cc43-46d1-8aad-23024a54aed2"
      },
      "execution_count": 7,
      "outputs": [
        {
          "output_type": "stream",
          "name": "stdout",
          "text": [
            "                                             content  \\\n",
            "0  sudah cukup untuk kebutuhan nabung dan transak...   \n",
            "1  apk nya di buat ringan aja dong kaya mbanking ...   \n",
            "2  kok bku BCA ku , minta masukin no handphone da...   \n",
            "3                                              keren   \n",
            "4                       blu digital bca mantaap lach   \n",
            "\n",
            "                                     cleaned_content  \n",
            "0  butuh nabung transaksi seharihari kartu debit ...  \n",
            "1  apk nya ringan aja kaya mbanking nya bca biar ...  \n",
            "2  bku bca ku masukin no handphone dah masukin no...  \n",
            "3                                              keren  \n",
            "4                       blu digital bca mantaap lach  \n"
          ]
        }
      ]
    },
    {
      "cell_type": "markdown",
      "source": [
        "### Label Data, Encoding"
      ],
      "metadata": {
        "id": "1YaVB750TAAq"
      }
    },
    {
      "cell_type": "code",
      "source": [
        "# Fungsi untuk melabeli data berdasarkan skor\n",
        "def label_sentiment(score):\n",
        "    if score >= 4:\n",
        "        return 'positif'\n",
        "    elif score <= 2:\n",
        "        return 'negatif'\n",
        "    else:\n",
        "        return 'netral'\n",
        "\n",
        "df['label'] = df['score'].apply(label_sentiment)\n",
        "label_encoder = LabelEncoder()\n",
        "y = label_encoder.fit_transform(df['label'])\n",
        "df['label_encoded'] = label_encoder.fit_transform(df['label'])\n",
        "\n",
        "print(df['label'].value_counts())\n",
        "df.head()"
      ],
      "metadata": {
        "colab": {
          "base_uri": "https://localhost:8080/",
          "height": 295
        },
        "id": "N0gsdyUSIKHv",
        "outputId": "d48fdfd7-8188-42bd-fd96-45cae163d61d"
      },
      "execution_count": 8,
      "outputs": [
        {
          "output_type": "stream",
          "name": "stdout",
          "text": [
            "label\n",
            "positif    6100\n",
            "negatif    2800\n",
            "netral     1100\n",
            "Name: count, dtype: int64\n"
          ]
        },
        {
          "output_type": "execute_result",
          "data": {
            "text/plain": [
              "                     userName  score  \\\n",
              "0                Heri GamerZ卐      5   \n",
              "1  Ramadhani Wisnu Habibullah      5   \n",
              "2            Eva simangunsong      5   \n",
              "3              Misnawati Dewi      5   \n",
              "4                Anan Rusmana      5   \n",
              "\n",
              "                                             content  \\\n",
              "0  sudah cukup untuk kebutuhan nabung dan transak...   \n",
              "1  apk nya di buat ringan aja dong kaya mbanking ...   \n",
              "2  kok bku BCA ku , minta masukin no handphone da...   \n",
              "3                                              keren   \n",
              "4                       blu digital bca mantaap lach   \n",
              "\n",
              "                                     cleaned_content    label  label_encoded  \n",
              "0  butuh nabung transaksi seharihari kartu debit ...  positif              2  \n",
              "1  apk nya ringan aja kaya mbanking nya bca biar ...  positif              2  \n",
              "2  bku bca ku masukin no handphone dah masukin no...  positif              2  \n",
              "3                                              keren  positif              2  \n",
              "4                       blu digital bca mantaap lach  positif              2  "
            ],
            "text/html": [
              "\n",
              "  <div id=\"df-3ed570b0-32e9-4d45-89f5-fa922066315c\" class=\"colab-df-container\">\n",
              "    <div>\n",
              "<style scoped>\n",
              "    .dataframe tbody tr th:only-of-type {\n",
              "        vertical-align: middle;\n",
              "    }\n",
              "\n",
              "    .dataframe tbody tr th {\n",
              "        vertical-align: top;\n",
              "    }\n",
              "\n",
              "    .dataframe thead th {\n",
              "        text-align: right;\n",
              "    }\n",
              "</style>\n",
              "<table border=\"1\" class=\"dataframe\">\n",
              "  <thead>\n",
              "    <tr style=\"text-align: right;\">\n",
              "      <th></th>\n",
              "      <th>userName</th>\n",
              "      <th>score</th>\n",
              "      <th>content</th>\n",
              "      <th>cleaned_content</th>\n",
              "      <th>label</th>\n",
              "      <th>label_encoded</th>\n",
              "    </tr>\n",
              "  </thead>\n",
              "  <tbody>\n",
              "    <tr>\n",
              "      <th>0</th>\n",
              "      <td>Heri GamerZ卐</td>\n",
              "      <td>5</td>\n",
              "      <td>sudah cukup untuk kebutuhan nabung dan transak...</td>\n",
              "      <td>butuh nabung transaksi seharihari kartu debit ...</td>\n",
              "      <td>positif</td>\n",
              "      <td>2</td>\n",
              "    </tr>\n",
              "    <tr>\n",
              "      <th>1</th>\n",
              "      <td>Ramadhani Wisnu Habibullah</td>\n",
              "      <td>5</td>\n",
              "      <td>apk nya di buat ringan aja dong kaya mbanking ...</td>\n",
              "      <td>apk nya ringan aja kaya mbanking nya bca biar ...</td>\n",
              "      <td>positif</td>\n",
              "      <td>2</td>\n",
              "    </tr>\n",
              "    <tr>\n",
              "      <th>2</th>\n",
              "      <td>Eva simangunsong</td>\n",
              "      <td>5</td>\n",
              "      <td>kok bku BCA ku , minta masukin no handphone da...</td>\n",
              "      <td>bku bca ku masukin no handphone dah masukin no...</td>\n",
              "      <td>positif</td>\n",
              "      <td>2</td>\n",
              "    </tr>\n",
              "    <tr>\n",
              "      <th>3</th>\n",
              "      <td>Misnawati Dewi</td>\n",
              "      <td>5</td>\n",
              "      <td>keren</td>\n",
              "      <td>keren</td>\n",
              "      <td>positif</td>\n",
              "      <td>2</td>\n",
              "    </tr>\n",
              "    <tr>\n",
              "      <th>4</th>\n",
              "      <td>Anan Rusmana</td>\n",
              "      <td>5</td>\n",
              "      <td>blu digital bca mantaap lach</td>\n",
              "      <td>blu digital bca mantaap lach</td>\n",
              "      <td>positif</td>\n",
              "      <td>2</td>\n",
              "    </tr>\n",
              "  </tbody>\n",
              "</table>\n",
              "</div>\n",
              "    <div class=\"colab-df-buttons\">\n",
              "\n",
              "  <div class=\"colab-df-container\">\n",
              "    <button class=\"colab-df-convert\" onclick=\"convertToInteractive('df-3ed570b0-32e9-4d45-89f5-fa922066315c')\"\n",
              "            title=\"Convert this dataframe to an interactive table.\"\n",
              "            style=\"display:none;\">\n",
              "\n",
              "  <svg xmlns=\"http://www.w3.org/2000/svg\" height=\"24px\" viewBox=\"0 -960 960 960\">\n",
              "    <path d=\"M120-120v-720h720v720H120Zm60-500h600v-160H180v160Zm220 220h160v-160H400v160Zm0 220h160v-160H400v160ZM180-400h160v-160H180v160Zm440 0h160v-160H620v160ZM180-180h160v-160H180v160Zm440 0h160v-160H620v160Z\"/>\n",
              "  </svg>\n",
              "    </button>\n",
              "\n",
              "  <style>\n",
              "    .colab-df-container {\n",
              "      display:flex;\n",
              "      gap: 12px;\n",
              "    }\n",
              "\n",
              "    .colab-df-convert {\n",
              "      background-color: #E8F0FE;\n",
              "      border: none;\n",
              "      border-radius: 50%;\n",
              "      cursor: pointer;\n",
              "      display: none;\n",
              "      fill: #1967D2;\n",
              "      height: 32px;\n",
              "      padding: 0 0 0 0;\n",
              "      width: 32px;\n",
              "    }\n",
              "\n",
              "    .colab-df-convert:hover {\n",
              "      background-color: #E2EBFA;\n",
              "      box-shadow: 0px 1px 2px rgba(60, 64, 67, 0.3), 0px 1px 3px 1px rgba(60, 64, 67, 0.15);\n",
              "      fill: #174EA6;\n",
              "    }\n",
              "\n",
              "    .colab-df-buttons div {\n",
              "      margin-bottom: 4px;\n",
              "    }\n",
              "\n",
              "    [theme=dark] .colab-df-convert {\n",
              "      background-color: #3B4455;\n",
              "      fill: #D2E3FC;\n",
              "    }\n",
              "\n",
              "    [theme=dark] .colab-df-convert:hover {\n",
              "      background-color: #434B5C;\n",
              "      box-shadow: 0px 1px 3px 1px rgba(0, 0, 0, 0.15);\n",
              "      filter: drop-shadow(0px 1px 2px rgba(0, 0, 0, 0.3));\n",
              "      fill: #FFFFFF;\n",
              "    }\n",
              "  </style>\n",
              "\n",
              "    <script>\n",
              "      const buttonEl =\n",
              "        document.querySelector('#df-3ed570b0-32e9-4d45-89f5-fa922066315c button.colab-df-convert');\n",
              "      buttonEl.style.display =\n",
              "        google.colab.kernel.accessAllowed ? 'block' : 'none';\n",
              "\n",
              "      async function convertToInteractive(key) {\n",
              "        const element = document.querySelector('#df-3ed570b0-32e9-4d45-89f5-fa922066315c');\n",
              "        const dataTable =\n",
              "          await google.colab.kernel.invokeFunction('convertToInteractive',\n",
              "                                                    [key], {});\n",
              "        if (!dataTable) return;\n",
              "\n",
              "        const docLinkHtml = 'Like what you see? Visit the ' +\n",
              "          '<a target=\"_blank\" href=https://colab.research.google.com/notebooks/data_table.ipynb>data table notebook</a>'\n",
              "          + ' to learn more about interactive tables.';\n",
              "        element.innerHTML = '';\n",
              "        dataTable['output_type'] = 'display_data';\n",
              "        await google.colab.output.renderOutput(dataTable, element);\n",
              "        const docLink = document.createElement('div');\n",
              "        docLink.innerHTML = docLinkHtml;\n",
              "        element.appendChild(docLink);\n",
              "      }\n",
              "    </script>\n",
              "  </div>\n",
              "\n",
              "\n",
              "<div id=\"df-d11c9567-97c5-4d2b-8e35-cf885d51d3d1\">\n",
              "  <button class=\"colab-df-quickchart\" onclick=\"quickchart('df-d11c9567-97c5-4d2b-8e35-cf885d51d3d1')\"\n",
              "            title=\"Suggest charts\"\n",
              "            style=\"display:none;\">\n",
              "\n",
              "<svg xmlns=\"http://www.w3.org/2000/svg\" height=\"24px\"viewBox=\"0 0 24 24\"\n",
              "     width=\"24px\">\n",
              "    <g>\n",
              "        <path d=\"M19 3H5c-1.1 0-2 .9-2 2v14c0 1.1.9 2 2 2h14c1.1 0 2-.9 2-2V5c0-1.1-.9-2-2-2zM9 17H7v-7h2v7zm4 0h-2V7h2v10zm4 0h-2v-4h2v4z\"/>\n",
              "    </g>\n",
              "</svg>\n",
              "  </button>\n",
              "\n",
              "<style>\n",
              "  .colab-df-quickchart {\n",
              "      --bg-color: #E8F0FE;\n",
              "      --fill-color: #1967D2;\n",
              "      --hover-bg-color: #E2EBFA;\n",
              "      --hover-fill-color: #174EA6;\n",
              "      --disabled-fill-color: #AAA;\n",
              "      --disabled-bg-color: #DDD;\n",
              "  }\n",
              "\n",
              "  [theme=dark] .colab-df-quickchart {\n",
              "      --bg-color: #3B4455;\n",
              "      --fill-color: #D2E3FC;\n",
              "      --hover-bg-color: #434B5C;\n",
              "      --hover-fill-color: #FFFFFF;\n",
              "      --disabled-bg-color: #3B4455;\n",
              "      --disabled-fill-color: #666;\n",
              "  }\n",
              "\n",
              "  .colab-df-quickchart {\n",
              "    background-color: var(--bg-color);\n",
              "    border: none;\n",
              "    border-radius: 50%;\n",
              "    cursor: pointer;\n",
              "    display: none;\n",
              "    fill: var(--fill-color);\n",
              "    height: 32px;\n",
              "    padding: 0;\n",
              "    width: 32px;\n",
              "  }\n",
              "\n",
              "  .colab-df-quickchart:hover {\n",
              "    background-color: var(--hover-bg-color);\n",
              "    box-shadow: 0 1px 2px rgba(60, 64, 67, 0.3), 0 1px 3px 1px rgba(60, 64, 67, 0.15);\n",
              "    fill: var(--button-hover-fill-color);\n",
              "  }\n",
              "\n",
              "  .colab-df-quickchart-complete:disabled,\n",
              "  .colab-df-quickchart-complete:disabled:hover {\n",
              "    background-color: var(--disabled-bg-color);\n",
              "    fill: var(--disabled-fill-color);\n",
              "    box-shadow: none;\n",
              "  }\n",
              "\n",
              "  .colab-df-spinner {\n",
              "    border: 2px solid var(--fill-color);\n",
              "    border-color: transparent;\n",
              "    border-bottom-color: var(--fill-color);\n",
              "    animation:\n",
              "      spin 1s steps(1) infinite;\n",
              "  }\n",
              "\n",
              "  @keyframes spin {\n",
              "    0% {\n",
              "      border-color: transparent;\n",
              "      border-bottom-color: var(--fill-color);\n",
              "      border-left-color: var(--fill-color);\n",
              "    }\n",
              "    20% {\n",
              "      border-color: transparent;\n",
              "      border-left-color: var(--fill-color);\n",
              "      border-top-color: var(--fill-color);\n",
              "    }\n",
              "    30% {\n",
              "      border-color: transparent;\n",
              "      border-left-color: var(--fill-color);\n",
              "      border-top-color: var(--fill-color);\n",
              "      border-right-color: var(--fill-color);\n",
              "    }\n",
              "    40% {\n",
              "      border-color: transparent;\n",
              "      border-right-color: var(--fill-color);\n",
              "      border-top-color: var(--fill-color);\n",
              "    }\n",
              "    60% {\n",
              "      border-color: transparent;\n",
              "      border-right-color: var(--fill-color);\n",
              "    }\n",
              "    80% {\n",
              "      border-color: transparent;\n",
              "      border-right-color: var(--fill-color);\n",
              "      border-bottom-color: var(--fill-color);\n",
              "    }\n",
              "    90% {\n",
              "      border-color: transparent;\n",
              "      border-bottom-color: var(--fill-color);\n",
              "    }\n",
              "  }\n",
              "</style>\n",
              "\n",
              "  <script>\n",
              "    async function quickchart(key) {\n",
              "      const quickchartButtonEl =\n",
              "        document.querySelector('#' + key + ' button');\n",
              "      quickchartButtonEl.disabled = true;  // To prevent multiple clicks.\n",
              "      quickchartButtonEl.classList.add('colab-df-spinner');\n",
              "      try {\n",
              "        const charts = await google.colab.kernel.invokeFunction(\n",
              "            'suggestCharts', [key], {});\n",
              "      } catch (error) {\n",
              "        console.error('Error during call to suggestCharts:', error);\n",
              "      }\n",
              "      quickchartButtonEl.classList.remove('colab-df-spinner');\n",
              "      quickchartButtonEl.classList.add('colab-df-quickchart-complete');\n",
              "    }\n",
              "    (() => {\n",
              "      let quickchartButtonEl =\n",
              "        document.querySelector('#df-d11c9567-97c5-4d2b-8e35-cf885d51d3d1 button');\n",
              "      quickchartButtonEl.style.display =\n",
              "        google.colab.kernel.accessAllowed ? 'block' : 'none';\n",
              "    })();\n",
              "  </script>\n",
              "</div>\n",
              "\n",
              "    </div>\n",
              "  </div>\n"
            ],
            "application/vnd.google.colaboratory.intrinsic+json": {
              "type": "dataframe",
              "variable_name": "df",
              "summary": "{\n  \"name\": \"df\",\n  \"rows\": 10000,\n  \"fields\": [\n    {\n      \"column\": \"userName\",\n      \"properties\": {\n        \"dtype\": \"category\",\n        \"num_unique_values\": 500,\n        \"samples\": [\n          \"Hernita Puspita sari\",\n          \"Natasya Ellynt\",\n          \"Moh Dwi Rahmadi\"\n        ],\n        \"semantic_type\": \"\",\n        \"description\": \"\"\n      }\n    },\n    {\n      \"column\": \"score\",\n      \"properties\": {\n        \"dtype\": \"number\",\n        \"std\": 1,\n        \"min\": 1,\n        \"max\": 5,\n        \"num_unique_values\": 5,\n        \"samples\": [\n          1,\n          4,\n          2\n        ],\n        \"semantic_type\": \"\",\n        \"description\": \"\"\n      }\n    },\n    {\n      \"column\": \"content\",\n      \"properties\": {\n        \"dtype\": \"category\",\n        \"num_unique_values\": 477,\n        \"samples\": [\n          \"Mau transfer ke Shopee pay sekarang udh gak bisa , fiturnya di hilangkan kecewa , uninstal aja lah\",\n          \"untuk verifikasi wajah selalu gagal padahal hp tidak bergoyang tolong di perbaiki\",\n          \"Kemarin tinggal tahapan akhir, malah dimatikan oleh CS nya\"\n        ],\n        \"semantic_type\": \"\",\n        \"description\": \"\"\n      }\n    },\n    {\n      \"column\": \"cleaned_content\",\n      \"properties\": {\n        \"dtype\": \"category\",\n        \"num_unique_values\": 461,\n        \"samples\": [\n          \"jelek banget gak masuk\",\n          \"sepi promo\",\n          \"aju pinjam tolak nggak bi checking utk aju 90\"\n        ],\n        \"semantic_type\": \"\",\n        \"description\": \"\"\n      }\n    },\n    {\n      \"column\": \"label\",\n      \"properties\": {\n        \"dtype\": \"category\",\n        \"num_unique_values\": 3,\n        \"samples\": [\n          \"positif\",\n          \"negatif\",\n          \"netral\"\n        ],\n        \"semantic_type\": \"\",\n        \"description\": \"\"\n      }\n    },\n    {\n      \"column\": \"label_encoded\",\n      \"properties\": {\n        \"dtype\": \"number\",\n        \"std\": 0,\n        \"min\": 0,\n        \"max\": 2,\n        \"num_unique_values\": 3,\n        \"samples\": [\n          2,\n          0,\n          1\n        ],\n        \"semantic_type\": \"\",\n        \"description\": \"\"\n      }\n    }\n  ]\n}"
            }
          },
          "metadata": {},
          "execution_count": 8
        }
      ]
    },
    {
      "cell_type": "code",
      "source": [
        "label_counts = df['label'].value_counts()\n",
        "\n",
        "# Membuat pie chart\n",
        "plt.figure(figsize=(7,7))\n",
        "plt.pie(label_counts, labels=label_counts.index, autopct='%1.1f%%', startangle=90, colors=['#99ff99','#ff6666','#66b3ff'])\n",
        "plt.title(\"Distribusi Sentimen Review Aplikasi Blu BCA\")\n",
        "plt.axis('equal')\n",
        "plt.show()"
      ],
      "metadata": {
        "colab": {
          "base_uri": "https://localhost:8080/",
          "height": 598
        },
        "id": "b0jQRNyOIwz_",
        "outputId": "80a84898-89bd-4128-86e0-8ef43e57e05a"
      },
      "execution_count": 9,
      "outputs": [
        {
          "output_type": "display_data",
          "data": {
            "text/plain": [
              "<Figure size 700x700 with 1 Axes>"
            ],
            "image/png": "[encoded data removed]"
          },
          "metadata": {}
        }
      ]
    },
    {
      "cell_type": "markdown",
      "source": [
        "### Data Splitting"
      ],
      "metadata": {
        "id": "zQTw1qT7Swvz"
      }
    },
    {
      "cell_type": "code",
      "source": [
        "# Mendefinisikan fitur (X) dan target (y)\n",
        "X = df['cleaned_content']\n",
        "y = df['label_encoded']\n",
        "\n",
        "# Membagi dataset menjadi data pelatihan (train) dan data pengujian (test)\n",
        "X_train, X_test, y_train, y_test = train_test_split(X, y, test_size=0.2, stratify=y, random_state=42)"
      ],
      "metadata": {
        "id": "76dchEpcHuDu"
      },
      "execution_count": 10,
      "outputs": []
    },
    {
      "cell_type": "markdown",
      "source": [
        "### Tokenisasi Deep Learning"
      ],
      "metadata": {
        "id": "f5zmfLSoTe4T"
      }
    },
    {
      "cell_type": "code",
      "source": [
        "# Inisialisasi Tokenizer dengan parameter\n",
        "tokenizer = Tokenizer(num_words=20000, oov_token='<OOV>')\n",
        "tokenizer.fit_on_texts(df['cleaned_content'])\n",
        "\n",
        "# Konversi teks ke sequence\n",
        "sequences = tokenizer.texts_to_sequences(df['cleaned_content'])\n",
        "max_len = max([len(seq) for seq in sequences])  # atau tetap pakai nilai tetap seperti 100\n",
        "\n",
        "# Padding\n",
        "padded = pad_sequences(sequences, maxlen=max_len)\n",
        "\n",
        "# Split data\n",
        "from sklearn.model_selection import train_test_split\n",
        "X_train_pad, X_test_pad, y_train, y_test = train_test_split(padded, df['label_encoded'], test_size=0.2, random_state=42)"
      ],
      "metadata": {
        "id": "GLGd9yB3MB4_"
      },
      "execution_count": 11,
      "outputs": []
    },
    {
      "cell_type": "markdown",
      "source": [
        "### Model LSTM"
      ],
      "metadata": {
        "id": "NZaK5UU3T3_-"
      }
    },
    {
      "cell_type": "code",
      "source": [
        "# Model LSTM\n",
        "model = Sequential()\n",
        "model.add(Embedding(input_dim=20000, output_dim=128, input_length=max_len))\n",
        "model.add(LSTM(256, return_sequences=True))\n",
        "model.add(Dropout(0.5))\n",
        "model.add(LSTM(128))\n",
        "model.add(Dropout(0.5))\n",
        "model.add(Dense(32, activation='relu'))\n",
        "model.add(Dense(3, activation='softmax'))\n",
        "\n",
        "model.compile(loss='sparse_categorical_crossentropy', optimizer='adam', metrics=['accuracy'])\n",
        "\n",
        "# Callback untuk menghentikan training saat akurasi >= 97%\n",
        "class StopTrainingAtAccuracy(Callback):\n",
        "    def __init__(self, target_accuracy=0.97):\n",
        "        super().__init__()\n",
        "        self.target_accuracy = target_accuracy\n",
        "\n",
        "    def on_epoch_end(self, epoch, logs=None):\n",
        "        logs = logs or {}\n",
        "        acc = logs.get(\"accuracy\")\n",
        "        if acc is not None and acc >= self.target_accuracy:\n",
        "            print(f\"\\n Target accuracy {self.target_accuracy * 100}% tercapai di epoch {epoch + 1}, menghentikan training...\")\n",
        "            self.model.stop_training = True\n",
        "\n",
        "# Training dengan callback\n",
        "stop_callback = StopTrainingAtAccuracy(target_accuracy=0.97)\n",
        "\n",
        "history = model.fit(\n",
        "    X_train_pad, y_train,\n",
        "    epochs=5,\n",
        "    validation_data=(X_test_pad, y_test),\n",
        "    batch_size=64,\n",
        "    callbacks=[stop_callback]\n",
        ")"
      ],
      "metadata": {
        "colab": {
          "base_uri": "https://localhost:8080/"
        },
        "id": "8iC5ovUzMVPf",
        "outputId": "2ca1ead5-a9bc-429b-980b-6a9df5aebc27"
      },
      "execution_count": 12,
      "outputs": [
        {
          "output_type": "stream",
          "name": "stderr",
          "text": [
            "/usr/local/lib/python3.11/dist-packages/keras/src/layers/core/embedding.py:90: UserWarning: Argument `input_length` is deprecated. Just remove it.\n",
            "  warnings.warn(\n"
          ]
        },
        {
          "output_type": "stream",
          "name": "stdout",
          "text": [
            "Epoch 1/5\n",
            "\u001b[1m125/125\u001b[0m \u001b[32m━━━━━━━━━━━━━━━━━━━━\u001b[0m\u001b[37m\u001b[0m \u001b[1m10s\u001b[0m 22ms/step - accuracy: 0.7045 - loss: 0.7123 - val_accuracy: 0.9700 - val_loss: 0.0714\n",
            "Epoch 2/5\n",
            "\u001b[1m125/125\u001b[0m \u001b[32m━━━━━━━━━━━━━━━━━━━━\u001b[0m\u001b[37m\u001b[0m \u001b[1m0s\u001b[0m 13ms/step - accuracy: 0.9782 - loss: 0.0579\n",
            " Target accuracy 97.0% tercapai di epoch 2, menghentikan training...\n",
            "\u001b[1m125/125\u001b[0m \u001b[32m━━━━━━━━━━━━━━━━━━━━\u001b[0m\u001b[37m\u001b[0m \u001b[1m6s\u001b[0m 15ms/step - accuracy: 0.9783 - loss: 0.0579 - val_accuracy: 0.9970 - val_loss: 0.0125\n"
          ]
        }
      ]
    },
    {
      "cell_type": "code",
      "source": [
        "train_acc = history.history['accuracy'][-1]\n",
        "val_acc = history.history['val_accuracy'][-1]\n",
        "\n",
        "print(f\"Akurasi training: {train_acc*100:.2f}%\")\n",
        "print(f\"Akurasi testing: {val_acc*100:.2f}%\")"
      ],
      "metadata": {
        "colab": {
          "base_uri": "https://localhost:8080/"
        },
        "id": "AUNre_XcPqG6",
        "outputId": "41849840-750d-441a-8183-9e261fdc7638"
      },
      "execution_count": 13,
      "outputs": [
        {
          "output_type": "stream",
          "name": "stdout",
          "text": [
            "Akurasi training: 98.26%\n",
            "Akurasi testing: 99.70%\n"
          ]
        }
      ]
    },
    {
      "cell_type": "code",
      "source": [
        "# Evaluasi loss & accuracy di data testing\n",
        "loss, accuracy = model.evaluate(X_test_pad, y_test, verbose=0)\n",
        "print(f\"\\n Evaluation Result:\\n- Loss     : {loss:.4f}\\n- Accuracy : {accuracy * 100:.2f}%\")\n",
        "\n",
        "# Prediksi kelas dari data test\n",
        "y_pred_probs = model.predict(X_test_pad)\n",
        "y_pred = np.argmax(y_pred_probs, axis=1)\n",
        "conf_mat = confusion_matrix(y_test, y_pred)"
      ],
      "metadata": {
        "colab": {
          "base_uri": "https://localhost:8080/"
        },
        "id": "lnMOK2eMPwBe",
        "outputId": "899232ea-3593-4b84-ce8a-958cef64dfa0"
      },
      "execution_count": 14,
      "outputs": [
        {
          "output_type": "stream",
          "name": "stdout",
          "text": [
            "\n",
            " Evaluation Result:\n",
            "- Loss     : 0.0125\n",
            "- Accuracy : 99.70%\n",
            "\u001b[1m63/63\u001b[0m \u001b[32m━━━━━━━━━━━━━━━━━━━━\u001b[0m\u001b[37m\u001b[0m \u001b[1m1s\u001b[0m 7ms/step\n"
          ]
        }
      ]
    },
    {
      "cell_type": "code",
      "source": [
        "# Report\n",
        "print(\"Classification Report:\")\n",
        "print(classification_report(y_test, y_pred, digits=4))\n",
        "print(\"Confusion Matrix:\")\n",
        "print(conf_mat)"
      ],
      "metadata": {
        "colab": {
          "base_uri": "https://localhost:8080/"
        },
        "id": "IEZKaIoIGSz2",
        "outputId": "47797d4b-8eb4-4d95-9a77-9600730bf1ca"
      },
      "execution_count": 15,
      "outputs": [
        {
          "output_type": "stream",
          "name": "stdout",
          "text": [
            "Classification Report:\n",
            "              precision    recall  f1-score   support\n",
            "\n",
            "           0     0.9888    1.0000    0.9944       528\n",
            "           1     1.0000    0.9725    0.9860       218\n",
            "           2     1.0000    1.0000    1.0000      1254\n",
            "\n",
            "    accuracy                         0.9970      2000\n",
            "   macro avg     0.9963    0.9908    0.9935      2000\n",
            "weighted avg     0.9970    0.9970    0.9970      2000\n",
            "\n",
            "Confusion Matrix:\n",
            "[[ 528    0    0]\n",
            " [   6  212    0]\n",
            " [   0    0 1254]]\n"
          ]
        }
      ]
    },
    {
      "cell_type": "markdown",
      "source": [
        "## Percobaan 3 skema pelatihan yang berbeda"
      ],
      "metadata": {
        "id": "QsQweAGFYVmC"
      }
    },
    {
      "cell_type": "code",
      "source": [
        "# TF-IDF\n",
        "tfidf = TfidfVectorizer(max_features=10000)\n",
        "X_tfidf = tfidf.fit_transform(df['cleaned_content'])\n",
        "\n",
        "# Split 80/20\n",
        "X_train, X_test, y_train, y_test = train_test_split(X_tfidf, y, test_size=0.2, stratify=y, random_state=42)\n",
        "\n",
        "# SVM\n",
        "svm_model = LinearSVC()\n",
        "svm_model.fit(X_train, y_train)\n",
        "\n",
        "# Akurasi\n",
        "train_acc_svm = accuracy_score(y_train, svm_model.predict(X_train))\n",
        "test_acc_svm = accuracy_score(y_test, svm_model.predict(X_test))\n",
        "\n",
        "print(\"SVM (TF-IDF, 80/20)\")\n",
        "print(\"Akurasi Training:\", round(train_acc_svm * 100, 2), \"%\")\n",
        "print(\"Akurasi Testing :\", round(test_acc_svm * 100, 2), \"%\")"
      ],
      "metadata": {
        "colab": {
          "base_uri": "https://localhost:8080/"
        },
        "id": "S4kHslWFI5IW",
        "outputId": "9344262b-ba02-4c3d-b088-88c7cb7a8300"
      },
      "execution_count": 16,
      "outputs": [
        {
          "output_type": "stream",
          "name": "stdout",
          "text": [
            "SVM (TF-IDF, 80/20)\n",
            "Akurasi Training: 100.0 %\n",
            "Akurasi Testing : 100.0 %\n"
          ]
        }
      ]
    },
    {
      "cell_type": "code",
      "source": [
        "# Token dan Word2Vec\n",
        "tokens = [nltk.word_tokenize(text) for text in df['cleaned_content']]\n",
        "w2v_model = Word2Vec(sentences=tokens, vector_size=100, window=5, min_count=1)\n",
        "\n",
        "def avg_word2vec(tokens, model):\n",
        "    vectors = [model.wv[word] for word in tokens if word in model.wv]\n",
        "    return np.mean(vectors, axis=0) if vectors else np.zeros(100)\n",
        "\n",
        "X_w2v = np.array([avg_word2vec(t, w2v_model) for t in tokens])\n",
        "\n",
        "# Split 80/20\n",
        "X_train2, X_test2, y_train2, y_test2 = train_test_split(X_w2v, y, test_size=0.2, stratify=y, random_state=42)\n",
        "\n",
        "# RF\n",
        "rf_model = RandomForestClassifier(n_estimators=100, random_state=42)\n",
        "rf_model.fit(X_train2, y_train2)\n",
        "\n",
        "# Akurasi\n",
        "train_acc_rf_w2v = accuracy_score(y_train2, rf_model.predict(X_train2))\n",
        "test_acc_rf_w2v = accuracy_score(y_test2, rf_model.predict(X_test2))\n",
        "\n",
        "print(\"Random Forest (Word2Vec, 80/20)\")\n",
        "print(\"Akurasi Training:\", round(train_acc_rf_w2v * 100, 2), \"%\")\n",
        "print(\"Akurasi Testing :\", round(test_acc_rf_w2v * 100, 2), \"%\")"
      ],
      "metadata": {
        "colab": {
          "base_uri": "https://localhost:8080/"
        },
        "id": "QphQ5USjJGLI",
        "outputId": "383ad052-6f3d-404e-875b-6ea25fdb9e72"
      },
      "execution_count": 17,
      "outputs": [
        {
          "output_type": "stream",
          "name": "stdout",
          "text": [
            "Random Forest (Word2Vec, 80/20)\n",
            "Akurasi Training: 100.0 %\n",
            "Akurasi Testing : 100.0 %\n"
          ]
        }
      ]
    },
    {
      "cell_type": "code",
      "source": [
        "# TF-IDF lagi\n",
        "X_tfidf2 = tfidf.fit_transform(df['cleaned_content'])\n",
        "\n",
        "# Split 70/30\n",
        "X_train3, X_test3, y_train3, y_test3 = train_test_split(X_tfidf2, y, test_size=0.3, stratify=y, random_state=42)\n",
        "\n",
        "# RF\n",
        "rf_model2 = RandomForestClassifier(n_estimators=100, random_state=42)\n",
        "rf_model2.fit(X_train3, y_train3)\n",
        "\n",
        "# Akurasi\n",
        "train_acc_rf_tfidf = accuracy_score(y_train3, rf_model2.predict(X_train3))\n",
        "test_acc_rf_tfidf = accuracy_score(y_test3, rf_model2.predict(X_test3))\n",
        "\n",
        "print(\"Random Forest (TF-IDF, 70/30)\")\n",
        "print(\"Akurasi Training:\", round(train_acc_rf_tfidf * 100, 2), \"%\")\n",
        "print(\"Akurasi Testing :\", round(test_acc_rf_tfidf * 100, 2), \"%\")"
      ],
      "metadata": {
        "colab": {
          "base_uri": "https://localhost:8080/"
        },
        "id": "FGvcI6AOMT5b",
        "outputId": "be5646fe-48c9-46a8-906f-cd3781ba0ecd"
      },
      "execution_count": 18,
      "outputs": [
        {
          "output_type": "stream",
          "name": "stdout",
          "text": [
            "Random Forest (TF-IDF, 70/30)\n",
            "Akurasi Training: 100.0 %\n",
            "Akurasi Testing : 100.0 %\n"
          ]
        }
      ]
    },
    {
      "cell_type": "markdown",
      "source": [
        "## Inference"
      ],
      "metadata": {
        "id": "GVIhPztrYnfu"
      }
    },
    {
      "cell_type": "code",
      "source": [
        "# Review uji (positif, netral, negatif)\n",
        "teks_baru = [\n",
        "    \"Saya sangat puas dengan aplikasi ini, sangat membantu dan tampilannya bagus!\",\n",
        "    \"Aplikasinya biasa saja, tidak terlalu buruk tapi tidak spesial juga.\",\n",
        "    \"Aplikasi ini jelek, banyak bug dan bikin kesel saat digunakan!\"\n",
        "]\n",
        "\n",
        "tfidf = TfidfVectorizer(max_features=5000)\n",
        "tfidf.fit(df['cleaned_content'])\n",
        "X_new = tfidf.transform(teks_baru)\n",
        "\n",
        "# Load model terlatih\n",
        "rf_model = RandomForestClassifier()\n",
        "rf_model.fit(X_train, y_train)\n",
        "\n",
        "# Prediksi\n",
        "predictions = rf_model.predict(X_new)\n",
        "\n",
        "# Mapping label\n",
        "labels = ['Negatif', 'Netral', 'Positif']\n",
        "\n",
        "# Tampilkan hasil\n",
        "for review, pred in zip(teks_baru, predictions):\n",
        "    print(f\"Review: {review}\")\n",
        "    print(f\"Prediksi: {labels[pred]}\")\n",
        "    print(\"-\" * 50)"
      ],
      "metadata": {
        "colab": {
          "base_uri": "https://localhost:8080/"
        },
        "id": "gZj3NMmwM91R",
        "outputId": "c7afd781-1391-41a8-8745-905ee8fce70b"
      },
      "execution_count": 19,
      "outputs": [
        {
          "output_type": "stream",
          "name": "stdout",
          "text": [
            "Review: Saya sangat puas dengan aplikasi ini, sangat membantu dan tampilannya bagus!\n",
            "Prediksi: Positif\n",
            "--------------------------------------------------\n",
            "Review: Aplikasinya biasa saja, tidak terlalu buruk tapi tidak spesial juga.\n",
            "Prediksi: Positif\n",
            "--------------------------------------------------\n",
            "Review: Aplikasi ini jelek, banyak bug dan bikin kesel saat digunakan!\n",
            "Prediksi: Negatif\n",
            "--------------------------------------------------\n"
          ]
        }
      ]
    }
  ]
}